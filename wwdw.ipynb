{
 "cells": [
  {
   "cell_type": "markdown",
   "id": "2c38b280",
   "metadata": {},
   "source": [
    "## Goede Voornemens het hele jaar door\n",
    "Bespreking API backend - Python AWS Lambda CloudFunctions. "
   ]
  },
  {
   "cell_type": "code",
   "execution_count": 1,
   "id": "d0b27b86",
   "metadata": {},
   "outputs": [
    {
     "data": {
      "text/plain": [
       "[{'username': 'Joep!', 'wwdwid': 'wwdwid2022010780bh'},\n",
       " {'username': 'Sander!', 'wwdwid': 'wwdwid202201072841'}]"
      ]
     },
     "execution_count": 1,
     "metadata": {},
     "output_type": "execute_result"
    }
   ],
   "source": [
    "import json\n",
    "import requests\n",
    "\n",
    "cloudfunction = 'https://8lgmayxgl6.execute-api.eu-central-1.amazonaws.com/default/wwdw'\n",
    "\n",
    "req = {\n",
    "  \"body\": {\n",
    "   }\n",
    "}\n",
    "\n",
    "vdata = requests.post(cloudfunction, data=json.dumps(req))\n",
    "\n",
    "vdata.json()\n"
   ]
  },
  {
   "cell_type": "markdown",
   "id": "6d175c22",
   "metadata": {},
   "source": [
    "## Bespreking volgt... 7-jan 16:00"
   ]
  }
 ],
 "metadata": {
  "kernelspec": {
   "display_name": "Python 3 (ipykernel)",
   "language": "python",
   "name": "python3"
  },
  "language_info": {
   "codemirror_mode": {
    "name": "ipython",
    "version": 3
   },
   "file_extension": ".py",
   "mimetype": "text/x-python",
   "name": "python",
   "nbconvert_exporter": "python",
   "pygments_lexer": "ipython3",
   "version": "3.10.1"
  }
 },
 "nbformat": 4,
 "nbformat_minor": 5
}
