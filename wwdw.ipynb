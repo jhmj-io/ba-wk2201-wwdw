{
 "cells": [
  {
   "cell_type": "markdown",
   "id": "2c38b280",
   "metadata": {},
   "source": [
    "## Goede voornemens het hele jaar door\n",
    "Python cloud functions en cloud storage objecten voor opslaan en ophalen van goede voornemens, plannen voor realisatie en reflectie daarop. "
   ]
  },
  {
   "cell_type": "code",
   "execution_count": 1,
   "id": "d0b27b86",
   "metadata": {},
   "outputs": [
    {
     "data": {
      "text/plain": [
       "{'username': '',\n",
       " 'wwdwid': 'wwdwid202201062ei5',\n",
       " 'voornemen': [{'text': '',\n",
       "   'step': [{'text': ''}],\n",
       "   'thought': [{'text': ''}]}],\n",
       " 'wwdwsession': '2022010786ea2fj1'}"
      ]
     },
     "execution_count": 1,
     "metadata": {},
     "output_type": "execute_result"
    }
   ],
   "source": [
    "import json\n",
    "import requests\n",
    "\n",
    "cloudfunction = 'https://8lgmayxgl6.execute-api.eu-central-1.amazonaws.com/default/wwdw'\n",
    "\n",
    "req = {\n",
    "  \"body\": {\n",
    "    # \"wwdwsession\": \"20220106g03704cj\",\n",
    "    # \"documenthash\": \"uwwdw12345yxz\",\n",
    "    \"loginname\": \"joeppyyyrrr\"\n",
    "    # \"usersmake\": True\n",
    "   }\n",
    "}\n",
    "\n",
    "vdata = requests.post(cloudfunction, data=json.dumps(req))\n",
    "\n",
    "vdata.json()\n"
   ]
  }
 ],
 "metadata": {
  "kernelspec": {
   "display_name": "Python 3 (ipykernel)",
   "language": "python",
   "name": "python3"
  },
  "language_info": {
   "codemirror_mode": {
    "name": "ipython",
    "version": 3
   },
   "file_extension": ".py",
   "mimetype": "text/x-python",
   "name": "python",
   "nbconvert_exporter": "python",
   "pygments_lexer": "ipython3",
   "version": "3.10.1"
  }
 },
 "nbformat": 4,
 "nbformat_minor": 5
}
