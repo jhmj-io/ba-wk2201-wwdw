{
 "cells": [
  {
   "cell_type": "markdown",
   "id": "2c38b280",
   "metadata": {},
   "source": [
    "# Goede Voornemens het hele jaar door\n",
    "Bespreking API backend - Python AWS Lambda CloudFunctions. "
   ]
  },
  {
   "cell_type": "markdown",
   "id": "6d175c22",
   "metadata": {},
   "source": [
    "## Één router en vijf API's\n",
    "\n",
    "1. lambda_handler, 2. sessionmake, 3. sessionread, 4. userread, 5. userwrite, 6. usersread\n",
    "\n",
    "De code van deze zes functies wordt hieronder in code blokken getoond maar kan niet gedraaid worden. Daarvoor ontbreekt de AWS Environment. Deze AWS environment levert requests af aan de lambda_handler en stuurt responses terug. Ook is Cloud Storage efficiënt benaderbaar met de boto3 module.\n"
   ]
  },
  {
   "cell_type": "markdown",
   "id": "0f83fdf7",
   "metadata": {},
   "source": [
    "### Router - lambda_handler\n",
    "\n",
    "De router kijkt welke variabelen er in de request worden aangeleverd en \"beslist\" op basis daarvan welke API functie er aangeroepen moet worden. De response de API functie wordt dan weer doorgestuurd naar de client. Leuk feitje: de Pythons requests functie levert base64 versleutelde requests. De Web Fetch levert \"ruwe\" utf-8 data. De handler moet een decoder bevatten."
   ]
  },
  {
   "cell_type": "code",
   "execution_count": 2,
   "id": "689e256b",
   "metadata": {},
   "outputs": [],
   "source": [
    "\n",
    "def lambda_handler(event, context):\n",
    "\n",
    "    # print(\"event\", event)\n",
    "\n",
    "    req = {}\n",
    "    \n",
    "    if 'body' in list( event.keys()):\n",
    "        \n",
    "        req = event['body']\n",
    "        \n",
    "        if 'isBase64Encoded' in list( event.keys()) and event[\"isBase64Encoded\"]:\n",
    "            req = base64.b64decode(event['body']).decode('utf-8')\n",
    "            req = json.loads( req )\n",
    "            req = req[\"body\"]\n",
    "\n",
    "        elif type(req) is not dict:\n",
    "            req = json.loads( event['body'] )\n",
    "\n",
    "    print(\"req\", req)\n",
    "\n",
    "    reqkeys = list( req.keys() )\n",
    "    if \"loginname\" in reqkeys:\n",
    "        \n",
    "        if req[\"loginname\"]==\"session\":\n",
    "            if \"wwdwsession\" in reqkeys:\n",
    "                resjson = usermethods.sessionread(req[\"wwdwsession\"] )\n",
    "            else:\n",
    "                resjson = {}\n",
    "        else:\n",
    "            resjson = usermethods.sessionmake(req[\"loginname\"] )\n",
    "            \n",
    "    elif \"article\" in reqkeys:\n",
    "        resjson = usermethods.userwrite( req )\n",
    "\n",
    "    elif \"documenthash\" in reqkeys:\n",
    "        resjson = usermethods.userread( req[\"documenthash\"] )\n",
    "\n",
    "    elif \"usersmake\" in reqkeys:\n",
    "        resjson = usersmethods.usersmake()\n",
    "\n",
    "    else:\n",
    "        resjson = usersmethods.usersread()\n",
    "\n",
    "\n",
    "    return {\n",
    "        \"statusCode\": 200,\n",
    "        \"headers\": {\n",
    "            \"Content-Type\": \"application/json\"\n",
    "        },\n",
    "        \"body\": json.dumps( resjson  )\n",
    "    }\n",
    "    \n"
   ]
  },
  {
   "cell_type": "markdown",
   "id": "1dff90d0",
   "metadata": {},
   "source": [
    "### Session make\n",
    "\n",
    "De sessionmake API genereert een sessionid en koppelt dit aan een userid. Als een user bijvoorbeeld zijn gegevens wil wijzigen dient deze het sessionid en de te wijzigen data aan te leveren. De wijziging wordt dan doorgevoerd op het userid dat in het bestand sessions.json is gekoppeld aan de een sessionid. Als er nog geen user bestaat voor de loginnaam dan maakt sessionmake tevens een nieuwe (lege) user aan."
   ]
  },
  {
   "cell_type": "code",
   "execution_count": 3,
   "id": "2188e034",
   "metadata": {},
   "outputs": [],
   "source": [
    "def sessionmake(loginname):\n",
    "\n",
    "    nowdtm  = datetime.today().strftime('%Y%m%d')\n",
    "\n",
    "    # allways a new session\n",
    "    wwdwsession = nowdtm + \"\".join((random.choice(\"abcdefghij0123456789\") for i in range(8)))\n",
    "    \n",
    "    object_content = s3.Object(\"wwdw\", \"users.json\")\n",
    "    file_content = object_content.get()['Body'].read().decode('utf-8')\n",
    "    users = json.loads(file_content)\n",
    "    \n",
    "    user = list(filter(lambda u: u['loginname'] == loginname, users))    \n",
    "    \n",
    "    if(len(user)==1):\n",
    "        user = user[0]\n",
    "        wwdwid = user[\"wwdwid\"]\n",
    "        uservoornemens = userread(wwdwid)\n",
    "\n",
    "    else:\n",
    "        # write new wwdwuid        \n",
    "        wwdwid = \"wwdwid\" + nowdtm + \"\".join((random.choice(\"abcdefghij0123456789\") for i in range(4)))\n",
    "        uservoornemens = {\n",
    "            \"username\": \"\",\n",
    "            \"loginname\": loginname,\n",
    "            \"wwdwid\": wwdwid,\n",
    "            \"voornemen\": [{\n",
    "                    \"text\": \"\",\n",
    "                    \"step\":[{ \"text\": \"\" }],\n",
    "                    \"thought\":[{ \"text\": \"\"}]\n",
    "                }]\n",
    "            }\n",
    "        s3object = s3.Object('wwdw', wwdwid+'.json')\n",
    "        s3object.put( Body = ( bytes( json.dumps( uservoornemens ).encode('UTF-8') ) ) )    \n",
    "\n",
    "        # append new wwdwuid to users\n",
    "        del uservoornemens[\"voornemen\"]\n",
    "        users.append( uservoornemens )\n",
    "        s3object = s3.Object('wwdw', 'users.json')\n",
    "        s3object.put( Body = ( bytes( json.dumps( users ).encode('UTF-8') ) ) )    \n",
    "\n",
    "    uservoornemens[\"wwdwsession\"] = wwdwsession\n",
    "\n",
    "    # upsert sessions {}\n",
    "    object_content = s3.Object(\"wwdw\", \"sessions.json\")\n",
    "    file_content = object_content.get()['Body'].read().decode('utf-8')\n",
    "    sessions = json.loads(file_content)\n",
    "\n",
    "    sessions[wwdwsession] = {\"wwdwid\": wwdwid}\n",
    "    s3object = s3.Object('wwdw', 'sessions.json')\n",
    "    s3object.put( Body = ( bytes( json.dumps( sessions ).encode('UTF-8') ) ) )    \n",
    "\n",
    "    \n",
    "    print(\"session for\", loginname, wwdwid, uservoornemens[\"wwdwsession\"] )\n",
    "\n",
    "    del uservoornemens[\"loginname\"]\n",
    "\n",
    "    return uservoornemens\n",
    "    \n",
    "    "
   ]
  },
  {
   "cell_type": "markdown",
   "id": "a3ab1e24",
   "metadata": {},
   "source": [
    "### Session read\n",
    "\n",
    "Op de client wordt het sessionid opgeslagen in een eeuwig durend cookie. Dit cookie wordt meegestuurd met elk request en indien nodig gebruikt. Als de [live demo](https://jhmj-io.github.io/ba-wk2201-wwdw/) opnieuw wordt aangeroepen wordt bij de onload het sessionid uit het cookie op de server geverifieerd. Als het bestaat dan is de user ingelogd."
   ]
  },
  {
   "cell_type": "code",
   "execution_count": null,
   "id": "bca9647f",
   "metadata": {},
   "outputs": [],
   "source": [
    "def sessionread(wwdwsession):\n",
    "    object_content = s3.Object(\"wwdw\", \"sessions.json\")\n",
    "    file_content = object_content.get()['Body'].read().decode('utf-8')\n",
    "    sessions = json.loads(file_content)\n",
    "    if wwdwsession in list(sessions.keys()):\n",
    "        print(\"sessionread\", wwdwsession, sessions[wwdwsession])\n",
    "        uservoornemens = userread( sessions[wwdwsession][\"wwdwid\"] )\n",
    "\n",
    "        del uservoornemens[\"loginname\"]\n",
    "\n",
    "        return uservoornemens\n",
    "\n",
    "    else:\n",
    "        return {} "
   ]
  },
  {
   "cell_type": "markdown",
   "id": "49e56d4f",
   "metadata": {},
   "source": [
    "### User read\n",
    "\n",
    "Opvragen van de voornemens data van een user aan de hand van zijn userid.\n"
   ]
  },
  {
   "cell_type": "code",
   "execution_count": null,
   "id": "5647c116",
   "metadata": {},
   "outputs": [],
   "source": [
    "def userread( wwdwid ):\n",
    "    \n",
    "    object_content = s3.Object(\"wwdw\", wwdwid + \".json\" )\n",
    "    file_content = object_content.get()['Body'].read().decode('utf-8')\n",
    "    usermapped = json.loads(file_content)\n",
    "    usermapped[\"wwdwid\"] = wwdwid # should already be in dict\n",
    "\n",
    "    return usermapped\n",
    "\n"
   ]
  },
  {
   "cell_type": "markdown",
   "id": "1b75816e",
   "metadata": {},
   "source": [
    "Bovenstaande functie levert de response op onderstaand request. Voor de goede orde: het request wordt normaal gesproken uitgevoerd door Web Fetch -in een browser- en de response komt dus van de userread die draait in de AWS Lambda Cloud Function achter: https://8lgmayxgl6.execute-api.eu-central-1.amazonaws.com/default/wwdw"
   ]
  },
  {
   "cell_type": "code",
   "execution_count": 5,
   "id": "d0b27b86",
   "metadata": {},
   "outputs": [
    {
     "data": {
      "text/plain": [
       "{'username': 'Sander!',\n",
       " 'loginname': 'sander',\n",
       " 'wwdwid': 'wwdwid202201072841',\n",
       " 'voornemen': [{'text': 'Meer piano spelen',\n",
       "   'step': [{'text': 'Gewoon doen'}],\n",
       "   'thought': [{'text': 'Bit Academy is ook leuk'}]}]}"
      ]
     },
     "execution_count": 5,
     "metadata": {},
     "output_type": "execute_result"
    }
   ],
   "source": [
    "import json\n",
    "import requests\n",
    "\n",
    "cloudfunction = 'https://8lgmayxgl6.execute-api.eu-central-1.amazonaws.com/default/wwdw'\n",
    "\n",
    "req = {\n",
    "  \"body\": {\n",
    "    \"documenthash\": \"wwdwid202201072841\"\n",
    "   }\n",
    "}\n",
    "\n",
    "vdata = requests.post(cloudfunction, data=json.dumps(req))\n",
    "\n",
    "vdata.json()\n"
   ]
  },
  {
   "cell_type": "markdown",
   "id": "a971a1d2",
   "metadata": {},
   "source": [
    "### User write\n",
    "\n",
    "Opslaan van al dan niet gewijzgde data in het voor elke gebruiker unieke userid.json bestand in Cloud Storage. De data wordt alleen opgeslagen als er een bestaand sessionid wordt meegeleverd. Hackers opgelet: je kan een sessionid vinden in het eeuwig durende cookie en dit dan tevens inzetten op andere computers. Je kan weliswaar alleen de data van de gebruiker gekoppeld aan die session er mee wijzigen."
   ]
  },
  {
   "cell_type": "code",
   "execution_count": null,
   "id": "8f47ee0d",
   "metadata": {},
   "outputs": [],
   "source": [
    "def userwrite( req ):\n",
    "\n",
    "    wwdwsession = req[\"wwdwsession\"]\n",
    "    article = req[\"article\"]\n",
    "    \n",
    "    object_content = s3.Object(\"wwdw\", \"sessions.json\")\n",
    "    file_content = object_content.get()['Body'].read().decode('utf-8')\n",
    "    sessions = json.loads(file_content)\n",
    "    \n",
    "    if wwdwsession not in list(sessions.keys()):\n",
    "        return {\"articlewrite\": \"fail\" } \n",
    "        \n",
    "    print(\"uservoornemens article\", article )\n",
    "\n",
    "    uservoornemens = userread( sessions[wwdwsession][\"wwdwid\"] )\n",
    "    print(\"uservoornemens s3\", uservoornemens )\n",
    "\n",
    "    uservoornemens[\"username\"]  = article[\"username\"]\n",
    "    uservoornemens[\"voornemen\"] = article[\"voornemen\"]\n",
    "\n",
    "    wwdwid = sessions[wwdwsession][\"wwdwid\"]\n",
    "\n",
    "\n",
    "    s3object = s3.Object('wwdw', wwdwid+'.json')\n",
    "    s3object.put( Body = ( bytes( json.dumps( uservoornemens ).encode('UTF-8') ) ) )    \n",
    "\n",
    "    # update username in users\n",
    "    object_content = s3.Object(\"wwdw\", \"users.json\")\n",
    "    file_content = object_content.get()['Body'].read().decode('utf-8')\n",
    "    users = json.loads(file_content)\n",
    "    \n",
    "    useri = [i for i, d in enumerate(users) if d[\"wwdwid\"]==wwdwid ][0]\n",
    "    users[useri][\"username\"] = article[\"username\"]\n",
    "    \n",
    "    s3object = s3.Object('wwdw', 'users.json')\n",
    "    s3object.put( Body = ( bytes( json.dumps( users ).encode('UTF-8') ) ) )    \n",
    "\n",
    "    return {\"articlewrite\": \"OK\"}"
   ]
  },
  {
   "cell_type": "markdown",
   "id": "74c6ccd6",
   "metadata": {},
   "source": [
    "Onderstaand een write request dat door bovenstaande functie wordt uitgevoerd."
   ]
  },
  {
   "cell_type": "code",
   "execution_count": 6,
   "id": "91dea64b",
   "metadata": {},
   "outputs": [
    {
     "data": {
      "text/plain": [
       "{'articlewrite': 'fail'}"
      ]
     },
     "execution_count": 6,
     "metadata": {},
     "output_type": "execute_result"
    }
   ],
   "source": [
    "cloudfunction = 'https://8lgmayxgl6.execute-api.eu-central-1.amazonaws.com/default/wwdw'\n",
    "\n",
    "req = {\n",
    "  \"body\": {\n",
    "    \"wwdwsession\": \"bla-die-bla\",\n",
    "    \"article\": {\n",
    "      \"username\": \"Sander!\",\n",
    "      \"voornemen\": [\n",
    "        {\n",
    "          \"text\": \"Meer muziek\",\n",
    "          \"step\": [{\"text\": \"Kan ook luisten\"}],\n",
    "          \"thought\": [{\"text\": \"Gaat samen met Bit Academy\"}]\n",
    "        }\n",
    "      ]\n",
    "    }\n",
    "   }\n",
    "}\n",
    "\n",
    "vdata = requests.post(cloudfunction, data=json.dumps(req))\n",
    "\n",
    "vdata.json()"
   ]
  },
  {
   "cell_type": "markdown",
   "id": "0a86492b",
   "metadata": {},
   "source": [
    "### Users read\n",
    "\n",
    "Op de home page wordt een lijst gegeven van de waaghalzen die op de [live demo](https://jhmj-io.github.io/ba-wk2201-wwdw/) hun goede voornemens bespreken."
   ]
  },
  {
   "cell_type": "code",
   "execution_count": null,
   "id": "14083b41",
   "metadata": {},
   "outputs": [],
   "source": [
    "def usersread():\n",
    "\n",
    "    object_content = s3.Object(\"wwdw\", \"users.json\")\n",
    "\n",
    "    file_content = object_content.get()['Body'].read().decode('utf-8')\n",
    "\n",
    "    json_content = json.loads(file_content)\n",
    "    \n",
    "    usersmapped = list( map(lambda u: {\"username\": u[\"username\"], \"wwdwid\": u[\"wwdwid\"]}, json_content) )\n",
    "\n",
    "    return usersmapped\n",
    "    "
   ]
  },
  {
   "cell_type": "markdown",
   "id": "ef561bc6",
   "metadata": {},
   "source": [
    "Onderstaand request vraagt om de user lijst. "
   ]
  },
  {
   "cell_type": "code",
   "execution_count": 7,
   "id": "4eff03b5",
   "metadata": {},
   "outputs": [
    {
     "data": {
      "text/plain": [
       "[{'username': 'Joep!', 'wwdwid': 'wwdwid2022010780bh'},\n",
       " {'username': 'Sander!', 'wwdwid': 'wwdwid202201072841'},\n",
       " {'username': 'Coach', 'wwdwid': 'wwdwid20220107ahb5'}]"
      ]
     },
     "execution_count": 7,
     "metadata": {},
     "output_type": "execute_result"
    }
   ],
   "source": [
    "cloudfunction = 'https://8lgmayxgl6.execute-api.eu-central-1.amazonaws.com/default/wwdw'\n",
    "\n",
    "req = {\n",
    "  \"body\": {\n",
    "   }\n",
    "}\n",
    "\n",
    "vdata = requests.post(cloudfunction, data=json.dumps(req))\n",
    "\n",
    "vdata.json()"
   ]
  }
 ],
 "metadata": {
  "kernelspec": {
   "display_name": "Python 3 (ipykernel)",
   "language": "python",
   "name": "python3"
  },
  "language_info": {
   "codemirror_mode": {
    "name": "ipython",
    "version": 3
   },
   "file_extension": ".py",
   "mimetype": "text/x-python",
   "name": "python",
   "nbconvert_exporter": "python",
   "pygments_lexer": "ipython3",
   "version": "3.10.1"
  }
 },
 "nbformat": 4,
 "nbformat_minor": 5
}
